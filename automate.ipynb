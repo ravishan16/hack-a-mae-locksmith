{
 "cells": [
  {
   "attachments": {},
   "cell_type": "markdown",
   "metadata": {},
   "source": [
    "## Automate REading BOM Json and updating pom.xml\n"
   ]
  },
  {
   "cell_type": "code",
   "execution_count": 2,
   "metadata": {},
   "outputs": [
    {
     "name": "stdout",
     "output_type": "stream",
     "text": [
      "junit:junit:3.8.1\n",
      "org.springframework:spring:2.5.6\n",
      "cglib:cglib:2.2\n",
      "mysql:mysql-connector-java:5.1.9\n",
      "org.hibernate:hibernate-annotations:3.4.0.GA\n",
      "org.hibernate:hibernate-commons-annotations:3.2.0.Final\n",
      "dom4j:dom4j:1.6.1\n",
      "commons-logging:commons-logging:1.1.1\n",
      "commons-collections:commons-collections:3.2.1\n",
      "antlr:antlr:2.7.7\n",
      "com.fasterxml.jackson.core:jackson-databind:2.0.0\n",
      "com.fasterxml.jackson.core:jackson-annotations:2.0.0\n",
      "com.fasterxml.jackson.core:jackson-core:2.0.0\n",
      "org.springframework:spring-expression:5.1.0.RELEASE\n",
      "org.springframework:spring-web:5.1.0.RELEASE\n",
      "org.springframework:spring-beans:5.1.0.RELEASE\n",
      "org.springframework:spring-core:5.1.0.RELEASE\n"
     ]
    }
   ],
   "source": [
    "## Read pom.xml and print dependency\n",
    "import xml.etree.ElementTree as ET\n",
    "\n",
    "# Set the path to the pom.xml file\n",
    "pom_file = \"pom.xml\"\n",
    "\n",
    "# Parse the pom.xml file\n",
    "tree = ET.parse(pom_file)\n",
    "root = tree.getroot()\n",
    "\n",
    "# Find all dependencies in the pom.xml file\n",
    "dependencies = root.findall(\".//dependency\")\n",
    "\n",
    "# Print the dependencies and versions\n",
    "for dependency in dependencies:\n",
    "    group_id = dependency.find(\"groupId\").text\n",
    "    artifact_id = dependency.find(\"artifactId\").text\n",
    "    version = dependency.find(\"version\").text\n",
    "    print(f\"{group_id}:{artifact_id}:{version}\")"
   ]
  },
  {
   "cell_type": "code",
   "execution_count": 10,
   "metadata": {},
   "outputs": [],
   "source": [
    "## Function to update pom.xml \n",
    "\n",
    "import xml.etree.ElementTree as ET\n",
    "\n",
    "def update_dependency_version(pom_file, dependency_artifact_id, new_version):\n",
    "    \"\"\"\n",
    "    Updates the version of a dependency with the specified artifact ID in the\n",
    "    specified pom.xml file to the specified new version.\n",
    "    \"\"\"\n",
    "\n",
    "    # Parse the pom.xml file\n",
    "    tree = ET.parse(pom_file)\n",
    "    root = tree.getroot()\n",
    "\n",
    "    # Find the dependency you want to update\n",
    "    dependency = root.find(f\".//dependency/[artifactId='{dependency_artifact_id}']\")\n",
    "\n",
    "    if dependency is None:\n",
    "        print (\"Dependency doesnot exist\")\n",
    "        #raise ValueError(f\"Dependency with artifactId '{dependency_artifact_id}' not found.\")\n",
    "    else:\n",
    "        # Update the version of the dependency\n",
    "        dependency.find(\"version\").text = new_version\n",
    "\n",
    "        # Write the updated pom.xml file\n",
    "        tree.write(pom_file)\n",
    "\n",
    "        print(f\"Dependency with artifactId '{dependency_artifact_id}' updated to version '{new_version}' in '{pom_file}'.\")"
   ]
  },
  {
   "cell_type": "code",
   "execution_count": 12,
   "metadata": {},
   "outputs": [
    {
     "name": "stdout",
     "output_type": "stream",
     "text": [
      "Dependency with artifactId 'jackson-databind' updated to version '2.15.0' in 'pom.xml'.\n"
     ]
    }
   ],
   "source": [
    "## Call and update \n",
    "\n",
    "pom_file = \"pom.xml\"\n",
    "dependency_artifact_id = \"jackson-databind\"\n",
    "new_version = \"2.15.0\"\n",
    "\n",
    "update_dependency_version(pom_file, dependency_artifact_id, new_version)"
   ]
  }
 ],
 "metadata": {
  "kernelspec": {
   "display_name": "base",
   "language": "python",
   "name": "python3"
  },
  "language_info": {
   "codemirror_mode": {
    "name": "ipython",
    "version": 3
   },
   "file_extension": ".py",
   "mimetype": "text/x-python",
   "name": "python",
   "nbconvert_exporter": "python",
   "pygments_lexer": "ipython3",
   "version": "3.7.6"
  },
  "orig_nbformat": 4
 },
 "nbformat": 4,
 "nbformat_minor": 2
}
