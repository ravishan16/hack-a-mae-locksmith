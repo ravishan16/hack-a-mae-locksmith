{
 "cells": [
  {
   "attachments": {},
   "cell_type": "markdown",
   "metadata": {},
   "source": [
    "## Automate Reading BOM Json and updating pom.xml\n"
   ]
  },
  {
   "attachments": {},
   "cell_type": "markdown",
   "metadata": {},
   "source": [
    "### Future Upgrades\n",
    "\n",
    "- Call the Tidelift API instead of reading the bom.json\n",
    "- After pom.xml is updated, automate Pull request\n",
    "- Explore tools like snyk that does it automatically."
   ]
  },
  {
   "attachments": {},
   "cell_type": "markdown",
   "metadata": {},
   "source": [
    "### Function to update pom.xml \n"
   ]
  },
  {
   "cell_type": "code",
   "execution_count": 58,
   "metadata": {},
   "outputs": [],
   "source": [
    "\n",
    "import xml.etree.ElementTree as ET\n",
    "\n",
    "def update_dependency_version(pom_file, dependency_artifact_id, new_version):\n",
    "    \"\"\"\n",
    "    Updates the version of a dependency with the specified artifact ID in the\n",
    "    specified pom.xml file to the specified new version.\n",
    "    \"\"\"\n",
    "\n",
    "    # Parse the pom.xml file\n",
    "    tree = ET.parse(pom_file)\n",
    "    root = tree.getroot()\n",
    "\n",
    "    # Find the dependency you want to update\n",
    "    dependency = root.find(f\".//dependency/[artifactId='{dependency_artifact_id}']\")\n",
    "    # print (dependency, new_version)\n",
    "\n",
    "    if dependency is None or new_version is '':\n",
    "        print (f\"Dependency with artifactId '{dependency_artifact_id} skipped\")\n",
    "        #raise ValueError(f\"Dependency with artifactId '{dependency_artifact_id}' not found.\")\n",
    "    else:\n",
    "        # Update the version of the dependency\n",
    "        dependency.find(\"version\").text = new_version\n",
    "\n",
    "        # Write the updated pom.xml file\n",
    "        tree.write(pom_file)\n",
    "\n",
    "        print(f\"Dependency with artifactId '{dependency_artifact_id}' updated to version '{new_version}' in '{pom_file}'.\")"
   ]
  },
  {
   "attachments": {},
   "cell_type": "markdown",
   "metadata": {},
   "source": [
    "### Process the Vulnerability Report\n",
    "- Load json \n",
    "- Covert to dataframe\n",
    "- Filter datframe for hackathon project\n",
    "- iterate and call update pom function \n"
   ]
  },
  {
   "cell_type": "code",
   "execution_count": 64,
   "metadata": {},
   "outputs": [
    {
     "name": "stdout",
     "output_type": "stream",
     "text": [
      "                                    package_name           affected_project  \\\n",
      "0    com.fasterxml.jackson.core:jackson-databind  G0H-INNERSOURCE-HACKATHON   \n",
      "6                     mysql:mysql-connector-java  G0H-INNERSOURCE-HACKATHON   \n",
      "14                                   junit:junit  G0H-INNERSOURCE-HACKATHON   \n",
      "16                  org.hibernate:hibernate-core  G0H-INNERSOURCE-HACKATHON   \n",
      "37                                   dom4j:dom4j  G0H-INNERSOURCE-HACKATHON   \n",
      "74                    org.springframework:spring  G0H-INNERSOURCE-HACKATHON   \n",
      "126      commons-collections:commons-collections  G0H-INNERSOURCE-HACKATHON   \n",
      "\n",
      "    version_guidance  \n",
      "0             2.15.0  \n",
      "6             8.0.33  \n",
      "14            4.13.2  \n",
      "16       6.2.2.Final  \n",
      "37                    \n",
      "74            5.3.27  \n",
      "126            3.2.2  \n"
     ]
    }
   ],
   "source": [
    "import pandas as pd\n",
    "import json\n",
    "\n",
    "# Set the path to the JSON file\n",
    "json_file = \"bom.json\"\n",
    "\n",
    "# Load the JSON file into a Python object\n",
    "with open(json_file, \"r\") as f:\n",
    "    data = json.load(f)\n",
    "\n",
    "# Extract the node you want to read into a DataFrame\n",
    "node = data[\"report\"]\n",
    "\n",
    "# Convert the node to a Pandas DataFrame\n",
    "df = pd.json_normalize(node)\n",
    "\n",
    "#filter only interested project\n",
    "required_rows_df = df[[\"package_name\", \"affected_project\",\"version_guidance\"]]\n",
    "only_project_df = required_rows_df.loc[required_rows_df[\"affected_project\"] == \"G0H-INNERSOURCE-HACKATHON\"].drop_duplicates()\n",
    "\n",
    "\n",
    "# Print the DataFrame\n",
    "print(only_project_df)"
   ]
  },
  {
   "cell_type": "code",
   "execution_count": 65,
   "metadata": {},
   "outputs": [
    {
     "name": "stdout",
     "output_type": "stream",
     "text": [
      "Dependency with artifactId 'jackson-databind' updated to version '2.15.0' in 'pom.xml'.\n",
      "Dependency with artifactId 'mysql-connector-java' updated to version '8.0.33' in 'pom.xml'.\n",
      "Dependency with artifactId 'junit' updated to version '4.13.2' in 'pom.xml'.\n",
      "Dependency with artifactId 'hibernate-core skipped\n",
      "Dependency with artifactId 'dom4j skipped\n",
      "Dependency with artifactId 'commons-collections' updated to version '3.2.2' in 'pom.xml'.\n"
     ]
    }
   ],
   "source": [
    "## Loop thru the vulnerabilities dataframe and update pom\n",
    "\n",
    "pom_file = \"pom.xml\"\n",
    "\n",
    "\n",
    "for index, row in only_project_df.iterrows():\n",
    "    if row.package_name is not None and \":\" in row.package_name:\n",
    "        dependency_artifact_id = row.package_name.split(':')[1]\n",
    "    else:\n",
    "        dependency_artifact_id = row.package_name\n",
    "    new_version = row.version_guidance\n",
    "    skip_list = ['spring']\n",
    "    if dependency_artifact_id not in skip_list:\n",
    "        update_dependency_version(pom_file, dependency_artifact_id, new_version)\n",
    "    # validate_pom()"
   ]
  },
  {
   "cell_type": "code",
   "execution_count": 66,
   "metadata": {},
   "outputs": [
    {
     "name": "stdout",
     "output_type": "stream",
     "text": [
      "junit:junit:4.13.2\n",
      "org.springframework:spring:2.5.6\n",
      "cglib:cglib:2.2\n",
      "mysql:mysql-connector-java:8.0.33\n",
      "org.hibernate:hibernate-annotations:3.4.0.GA\n",
      "org.hibernate:hibernate-commons-annotations:3.2.0.Final\n",
      "dom4j:dom4j:1.6.1\n",
      "commons-logging:commons-logging:1.1.1\n",
      "commons-collections:commons-collections:3.2.2\n",
      "antlr:antlr:2.7.7\n",
      "com.fasterxml.jackson.core:jackson-databind:2.15.0\n",
      "com.fasterxml.jackson.core:jackson-annotations:2.0.0\n",
      "com.fasterxml.jackson.core:jackson-core:2.0.0\n",
      "org.springframework:spring-expression:5.1.0.RELEASE\n",
      "org.springframework:spring-web:5.1.0.RELEASE\n",
      "org.springframework:spring-beans:5.1.0.RELEASE\n",
      "org.springframework:spring-core:5.1.0.RELEASE\n"
     ]
    }
   ],
   "source": [
    "## Read pom.xml and print dependency\n",
    "import xml.etree.ElementTree as ET\n",
    "\n",
    "# Set the path to the pom.xml file\n",
    "pom_file = \"pom.xml\"\n",
    "\n",
    "# Parse the pom.xml file\n",
    "tree = ET.parse(pom_file)\n",
    "root = tree.getroot()\n",
    "\n",
    "# Find all dependencies in the pom.xml file\n",
    "dependencies = root.findall(\".//dependency\")\n",
    "\n",
    "# Print the dependencies and versions\n",
    "for dependency in dependencies:\n",
    "    group_id = dependency.find(\"groupId\").text\n",
    "    artifact_id = dependency.find(\"artifactId\").text\n",
    "    version = dependency.find(\"version\").text\n",
    "    print(f\"{group_id}:{artifact_id}:{version}\")"
   ]
  }
 ],
 "metadata": {
  "kernelspec": {
   "display_name": "base",
   "language": "python",
   "name": "python3"
  },
  "language_info": {
   "codemirror_mode": {
    "name": "ipython",
    "version": 3
   },
   "file_extension": ".py",
   "mimetype": "text/x-python",
   "name": "python",
   "nbconvert_exporter": "python",
   "pygments_lexer": "ipython3",
   "version": "3.7.6"
  },
  "orig_nbformat": 4
 },
 "nbformat": 4,
 "nbformat_minor": 2
}
